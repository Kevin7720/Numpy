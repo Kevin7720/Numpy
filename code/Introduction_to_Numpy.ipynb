{
  "nbformat": 4,
  "nbformat_minor": 0,
  "metadata": {
    "kernelspec": {
      "display_name": "Python 3",
      "language": "python",
      "name": "python3"
    },
    "language_info": {
      "codemirror_mode": {
        "name": "ipython",
        "version": 3
      },
      "file_extension": ".py",
      "mimetype": "text/x-python",
      "name": "python",
      "nbconvert_exporter": "python",
      "pygments_lexer": "ipython3",
      "version": "3.8.5"
    },
    "colab": {
      "name": "Introduction to Numpy.ipynb",
      "provenance": []
    }
  },
  "cells": [
    {
      "cell_type": "markdown",
      "metadata": {
        "id": "3ki-hDqno3UW"
      },
      "source": [
        "# Numpy: Numerical Python, 主要可進行陣列(Array)運算，執行速度比串列快"
      ]
    },
    {
      "cell_type": "code",
      "metadata": {
        "id": "XIsMZzRBo3Uf"
      },
      "source": [
        "# Numpy array稱為ndarray\n",
        "\n",
        "# 安裝\n",
        "# 可直接使用Anaconda Navigator進行安裝\n",
        "# 底下內容參考https://www.w3schools.com/"
      ],
      "execution_count": null,
      "outputs": []
    },
    {
      "cell_type": "code",
      "metadata": {
        "id": "eongLh7do3Ug",
        "outputId": "70988207-5a92-4ad9-cb85-aa982e9c39c6"
      },
      "source": [
        "#--------------------------------------------------------------------------------\n",
        "# 簡介\n",
        "#--------------------------------------------------------------------------------\n",
        "# 匯入(Import)\n",
        "import numpy # numpy所提供功能可使用\n",
        "\n",
        "# 宣告numpy陣列arr，並指定內容\n",
        "arr = numpy.array([1, 2, 3, 4, 5]) # 注意()內使用[]存放資料\n",
        "\n",
        "# 顯示陣列\n",
        "print(arr)"
      ],
      "execution_count": null,
      "outputs": [
        {
          "output_type": "stream",
          "text": [
            "[1 2 3 4 5]\n"
          ],
          "name": "stdout"
        }
      ]
    },
    {
      "cell_type": "code",
      "metadata": {
        "id": "AbLhl3Y0o3Ui",
        "outputId": "d426fcb8-012b-48bc-9468-781b5dd72b01"
      },
      "source": [
        "# 宣告別名(Alias)\n",
        "import numpy as np # 表示後續可使用np代表numpy\n",
        "\n",
        "# 宣告numpy陣列arr，並指定內容\n",
        "arr = np.array([1, 2, 3, 4, 5]) # 注意此處使用np而非numpy\n",
        "\n",
        "# 顯示陣列\n",
        "print(arr)"
      ],
      "execution_count": null,
      "outputs": [
        {
          "output_type": "stream",
          "text": [
            "[1 2 3 4 5]\n"
          ],
          "name": "stdout"
        }
      ]
    },
    {
      "cell_type": "code",
      "metadata": {
        "id": "tGXz0KOzo3Ui",
        "outputId": "53238102-5033-4fa1-b688-b849343c50ec"
      },
      "source": [
        "# 檢查numpy版本\n",
        "import numpy as np\n",
        "\n",
        "print(np.__version__) # version前後各兩個底線"
      ],
      "execution_count": null,
      "outputs": [
        {
          "output_type": "stream",
          "text": [
            "1.19.1\n"
          ],
          "name": "stdout"
        }
      ]
    },
    {
      "cell_type": "code",
      "metadata": {
        "id": "By7zOHupo3Uj",
        "outputId": "c4bc58a4-1449-48f2-8e0f-aa384d672596"
      },
      "source": [
        "#--------------------------------------------------------------------------------\n",
        "#%%\n",
        "# 產生numpy array: 使用array函數\n",
        "import numpy as np\n",
        "\n",
        "# 宣告numpy的ndarray物件，並指定內容\n",
        "arr = np.array([1, 2, 3, 4, 5])\n",
        "\n",
        "# 顯示陣列內容\n",
        "print(arr)\n",
        "\n",
        "# 顯示陣列類型\n",
        "print(type(arr))"
      ],
      "execution_count": null,
      "outputs": [
        {
          "output_type": "stream",
          "text": [
            "[1 2 3 4 5]\n",
            "<class 'numpy.ndarray'>\n"
          ],
          "name": "stdout"
        }
      ]
    },
    {
      "cell_type": "code",
      "metadata": {
        "id": "8IEImkU9o3Uk"
      },
      "source": [
        "#--------------------------------------------------------------------------------\n",
        "#%%\n",
        "# 可將串列(list)、元組(tuple)或類陣列資料結構轉為ndarray"
      ],
      "execution_count": null,
      "outputs": []
    },
    {
      "cell_type": "code",
      "metadata": {
        "id": "EicYorRVo3Uk",
        "outputId": "19b51109-dd26-40ef-ff79-b46b01a56c8c"
      },
      "source": [
        "#--------------------------------------------------------------------------------\n",
        "#%%\n",
        "# 陣列的維度(Dimensions)\n",
        "# 0維陣列(或稱Scalars)：也就是陣列中的元素(Element)\n",
        "import numpy as np\n",
        "\n",
        "# 宣告0維陣列，值為42\n",
        "arr = np.array(42)\n",
        "\n",
        "# 顯示陣列內容\n",
        "print(arr)\n",
        "\n",
        "# 顯示陣列類型\n",
        "print(type(arr))"
      ],
      "execution_count": null,
      "outputs": [
        {
          "output_type": "stream",
          "text": [
            "42\n",
            "<class 'numpy.ndarray'>\n"
          ],
          "name": "stdout"
        }
      ]
    },
    {
      "cell_type": "code",
      "metadata": {
        "id": "T0e_8WxCo3Ul",
        "outputId": "d9fc2214-fbaa-4bf6-dbeb-ab263231c8ba"
      },
      "source": [
        "#--------------------------------------------------------------------------------\n",
        "#%%\n",
        "# 1維陣列\n",
        "\n",
        "# 產生numpy array: 使用array函數\n",
        "import numpy as np\n",
        "\n",
        "# 宣告numpy的ndarray物件，並指定內容\n",
        "arr = np.array([1, 2, 3, 4, 5])\n",
        "\n",
        "# 顯示陣列內容\n",
        "print(arr)\n",
        "\n",
        "# 顯示陣列類型\n",
        "print(type(arr))"
      ],
      "execution_count": null,
      "outputs": [
        {
          "output_type": "stream",
          "text": [
            "[1 2 3 4 5]\n",
            "<class 'numpy.ndarray'>\n"
          ],
          "name": "stdout"
        }
      ]
    },
    {
      "cell_type": "code",
      "metadata": {
        "id": "K2X0HWwro3Ul",
        "outputId": "64cddb86-84af-468d-df81-82743cdcb11f"
      },
      "source": [
        "#--------------------------------------------------------------------------------\n",
        "#%%\n",
        "# 2維陣列(可直接看右側]數量判斷)\n",
        "import numpy as np\n",
        "\n",
        "# 宣告陣列，內含兩個1維陣列\n",
        "arr = np.array([[1, 2, 3], [4, 5, 6]])\n",
        "\n",
        "# 顯示陣列內容\n",
        "print(arr)"
      ],
      "execution_count": null,
      "outputs": [
        {
          "output_type": "stream",
          "text": [
            "[[1 2 3]\n",
            " [4 5 6]]\n"
          ],
          "name": "stdout"
        }
      ]
    },
    {
      "cell_type": "code",
      "metadata": {
        "id": "HxIgUYgoo3Um",
        "outputId": "5586eb73-d78e-466b-84a3-61e2b85d9719"
      },
      "source": [
        "#--------------------------------------------------------------------------------\n",
        "#%%\n",
        "# 3維陣列\n",
        "\n",
        "import numpy as np\n",
        "\n",
        "# 內含兩個2維陣列，2維陣列各包含2個1維陣列，3個元素\n",
        "arr = np.array([[[1, 2, 3], [4, 5, 6]], [[1, 2, 3], [4, 5, 6]]])\n",
        "\n",
        "# 顯示陣列內容\n",
        "print(arr)"
      ],
      "execution_count": null,
      "outputs": [
        {
          "output_type": "stream",
          "text": [
            "[[[1 2 3]\n",
            "  [4 5 6]]\n",
            "\n",
            " [[1 2 3]\n",
            "  [4 5 6]]]\n"
          ],
          "name": "stdout"
        }
      ]
    },
    {
      "cell_type": "code",
      "metadata": {
        "id": "Lp4Fa_36o3Um",
        "outputId": "5792dda3-37ca-465b-ae69-5f1c266ea03c"
      },
      "source": [
        "#--------------------------------------------------------------------------------\n",
        "#%%\n",
        "# 檢查陣列維度: 使用ndim功能\n",
        "import numpy as np\n",
        "\n",
        "# 0維陣列\n",
        "a = np.array(42)\n",
        "\n",
        "# 1維陣列\n",
        "b = np.array([1, 2, 3, 4, 5])\n",
        "\n",
        "# 2維陣列\n",
        "c = np.array([[1, 2, 3], [4, 5, 6]])\n",
        "\n",
        "# 3維陣列: 可判斷最右邊]個數來計算維度\n",
        "d = np.array([[[1, 2, 3], [4, 5, 6]], [[1, 2, 3], [4, 5, 6]]])\n",
        "\n",
        "# 顯示維度\n",
        "print(a.ndim)\n",
        "print(b.ndim)\n",
        "print(c.ndim)\n",
        "print(d.ndim)"
      ],
      "execution_count": null,
      "outputs": [
        {
          "output_type": "stream",
          "text": [
            "0\n",
            "1\n",
            "2\n",
            "3\n"
          ],
          "name": "stdout"
        }
      ]
    },
    {
      "cell_type": "code",
      "metadata": {
        "id": "OqGWtvNSo3Un",
        "outputId": "7b0b3e10-f8c8-4c7c-9966-4b7efd1b87a2"
      },
      "source": [
        "#--------------------------------------------------------------------------------\n",
        "#%%\n",
        "# 高維度陣列\n",
        "import numpy as np\n",
        "\n",
        "# 使用ndim參數設定維度\n",
        "arr = np.array([1, 2, 3, 4], ndmin = 5)\n",
        "\n",
        "# 顯示陣列內容\n",
        "print(arr)\n",
        "\n",
        "# 請計算最右邊]個數\n",
        "print('number of dimensions :', arr.ndim)"
      ],
      "execution_count": null,
      "outputs": [
        {
          "output_type": "stream",
          "text": [
            "[[[[[1 2 3 4]]]]]\n",
            "number of dimensions : 5\n"
          ],
          "name": "stdout"
        }
      ]
    },
    {
      "cell_type": "markdown",
      "metadata": {
        "id": "Kbdybf5fo3Un"
      },
      "source": [
        "## 產生特殊陣列"
      ]
    },
    {
      "cell_type": "code",
      "metadata": {
        "id": "-SG9OMPko3Uo",
        "outputId": "8fa7eda7-6307-4327-c2b1-001dd4ed2b3c"
      },
      "source": [
        "#--------------------------------------------------------------------------------\n",
        "#%% 產生特殊陣列\n",
        "import numpy as np\n",
        "\n",
        "arr_zeros = np.zeros(10, dtype = int) #建立一個內容為0 長度為10的整數陣列\n",
        "\n",
        "arr_ones = np.ones((3,5) ,dtype=float)  #建立一個內容為1 3x5 的浮點數陣列\n",
        "\n",
        "arr_empty = np.empty((3,2) )  #建立一個內容為1 3x2 的無初始值陣列\n",
        "\n",
        "# 顯示結果\n",
        "print(arr_zeros)\n",
        "print(arr_ones)\n",
        "print(arr_empty)\n"
      ],
      "execution_count": null,
      "outputs": [
        {
          "output_type": "stream",
          "text": [
            "[0 0 0 0 0 0 0 0 0 0]\n",
            "[[1. 1. 1. 1. 1.]\n",
            " [1. 1. 1. 1. 1.]\n",
            " [1. 1. 1. 1. 1.]]\n",
            "[[4.24399158e-314 8.48798317e-314]\n",
            " [1.27319747e-313 1.69759663e-313]\n",
            " [2.12199579e-313 2.54639495e-313]]\n"
          ],
          "name": "stdout"
        }
      ]
    },
    {
      "cell_type": "code",
      "metadata": {
        "id": "SIg8uzgho3Uo",
        "outputId": "b909730e-b327-4828-9b99-0dfff1bbefd3"
      },
      "source": [
        "#--------------------------------------------------------------------------------\n",
        "#%% 產生特殊陣列：等差數列\n",
        "import numpy as np\n",
        "\n",
        "arr_arange = np.arange(0, 20, 2) #建立一個依序填滿的陣列 0到20間隔為2\n",
        "arr_linspace = np.linspace(0, 1, 5) #建立一個5個值的陣列，在0到1間平均分布為5個數字\n",
        "\n",
        "# 顯示結果\n",
        "print('arr_arange---->', arr_arange)\n",
        "print('arr_linspace---->', arr_linspace)"
      ],
      "execution_count": null,
      "outputs": [
        {
          "output_type": "stream",
          "text": [
            "arr_arange----> [ 0  2  4  6  8 10 12 14 16 18]\n",
            "arr_linspace----> [0.   0.25 0.5  0.75 1.  ]\n"
          ],
          "name": "stdout"
        }
      ]
    },
    {
      "cell_type": "markdown",
      "metadata": {
        "id": "0VyWbh63o3Uo"
      },
      "source": [
        "# Numpy陣列索引(Indexing)"
      ]
    },
    {
      "cell_type": "code",
      "metadata": {
        "id": "Ka3ul7tpo3Up",
        "outputId": "879d1d5c-03a7-4e5d-e746-ffc58d3f231f"
      },
      "source": [
        "#--------------------------------------------------------------------------------\n",
        "#%%\n",
        "#--------------------------------------------------------------------------------\n",
        "# Numpy陣列索引(Indexing)\n",
        "#--------------------------------------------------------------------------------\n",
        "# 索引由0開始，0代表第1個元素\n",
        "import numpy as np\n",
        "\n",
        "arr = np.array([1, 2, 3, 4])\n",
        "\n",
        "# 第1個元素\n",
        "print(arr[0])\n",
        "\n",
        "# 請自行嘗試取得其他元素"
      ],
      "execution_count": null,
      "outputs": [
        {
          "output_type": "stream",
          "text": [
            "1\n"
          ],
          "name": "stdout"
        }
      ]
    },
    {
      "cell_type": "code",
      "metadata": {
        "id": "kEBPkKzjo3Up",
        "outputId": "9ea6895f-06b2-4283-8145-8105af72d8a0"
      },
      "source": [
        "#--------------------------------------------------------------------------------\n",
        "#%%\n",
        "import numpy as np\n",
        "\n",
        "# 宣告1維陣列\n",
        "arr = np.array([1, 2, 3, 4])\n",
        "\n",
        "# 將第3和4元素相加\n",
        "print(arr[2] + arr[3])"
      ],
      "execution_count": null,
      "outputs": [
        {
          "output_type": "stream",
          "text": [
            "7\n"
          ],
          "name": "stdout"
        }
      ]
    },
    {
      "cell_type": "code",
      "metadata": {
        "id": "cQ1OAirMo3Uq",
        "outputId": "39d8b6cf-8d27-4b84-a9f3-a676991f4ce7"
      },
      "source": [
        "#--------------------------------------------------------------------------------\n",
        "#%%\n",
        "# 存取2維陣列: 以逗號分隔[維度,元素]方式\n",
        "import numpy as np\n",
        "\n",
        "# 宣告2維陣列\n",
        "arr = np.array([[1,2,3,4,5], [6,7,8,9,10]])\n",
        "\n",
        "# 第1維度，第2元素(維度與元素皆從0開始)\n",
        "print('2nd element on 1st dim: ', arr[0, 1])"
      ],
      "execution_count": null,
      "outputs": [
        {
          "output_type": "stream",
          "text": [
            "2nd element on 1st dim:  2\n"
          ],
          "name": "stdout"
        }
      ]
    },
    {
      "cell_type": "code",
      "metadata": {
        "id": "pYawGvJxo3Uq",
        "outputId": "0d6576d0-6015-4dfd-9955-fbc1b7f797c4"
      },
      "source": [
        "#--------------------------------------------------------------------------------\n",
        "#%%\n",
        "import numpy as np\n",
        "\n",
        "arr = np.array([[1,2,3,4,5], [6,7,8,9,10]])\n",
        "\n",
        "# 請先思考底下指令結果？\n",
        "print('5th element on 2nd dim: ', arr[1, 4])"
      ],
      "execution_count": null,
      "outputs": [
        {
          "output_type": "stream",
          "text": [
            "5th element on 2nd dim:  10\n"
          ],
          "name": "stdout"
        }
      ]
    },
    {
      "cell_type": "code",
      "metadata": {
        "id": "mnk7e7Ibo3Uq",
        "outputId": "9d7aab64-5be6-412b-de45-d90d0d7a2d19"
      },
      "source": [
        "#--------------------------------------------------------------------------------\n",
        "#%%\n",
        "# 3維陣列\n",
        "\n",
        "import numpy as np\n",
        "\n",
        "# 宣告3維陣列\n",
        "arr = np.array([[[1, 2, 3], [4, 5, 6]], [[7, 8, 9], [10, 11, 12]]])\n",
        "\n",
        "# 取得第1個陣列(0)中的第2個陣列(1)的第3個(2)元素\n",
        "print(arr[0, 1, 2])\n",
        "\n",
        "#--------------------------------------------------------------------------------\n",
        "# 執行步驟說明\n",
        "\n",
        "# The first number represents the first dimension, which contains two arrays:\n",
        "# [[1, 2, 3], [4, 5, 6]]\n",
        "# and:\n",
        "# [[7, 8, 9], [10, 11, 12]]\n",
        "# Since we selected 0, we are left with the first array:\n",
        "# [[1, 2, 3], [4, 5, 6]]\n",
        "\n",
        "# The second number represents the second dimension, which also contains two arrays:\n",
        "# [1, 2, 3]\n",
        "# and:\n",
        "# [4, 5, 6]\n",
        "# Since we selected 1, we are left with the second array:\n",
        "# [4, 5, 6]\n",
        "\n",
        "# The third number represents the third dimension, which contains three values:\n",
        "# 4\n",
        "# 5\n",
        "# 6\n",
        "# Since we selected 2, we end up with the third value:\n",
        "# 6\n",
        "#--------------------------------------------------------------------------------"
      ],
      "execution_count": null,
      "outputs": [
        {
          "output_type": "stream",
          "text": [
            "6\n"
          ],
          "name": "stdout"
        }
      ]
    },
    {
      "cell_type": "code",
      "metadata": {
        "id": "3-nGhcW5o3Ur"
      },
      "source": [
        "#--------------------------------------------------------------------------------\n",
        "#%%\n",
        "\n",
        "# 負索引(Negative indexing)\n",
        "import numpy as np\n",
        "\n",
        "# 宣告2維陣列\n",
        "arr = np.array([[1,2,3,4,5], [6,7,8,9,10]])\n",
        "\n",
        "# -1表最後一個元素，1表弟2個陣列\n",
        "print('Last element from 2nd dim: ', arr[1, -1])"
      ],
      "execution_count": null,
      "outputs": []
    },
    {
      "cell_type": "markdown",
      "metadata": {
        "id": "brYgZVFXo3Ur"
      },
      "source": [
        "# 陣列切割(Slicing)"
      ]
    },
    {
      "cell_type": "code",
      "metadata": {
        "id": "AJlRNWmio3Ur",
        "outputId": "30811867-0291-43f5-be1a-c23447de0142"
      },
      "source": [
        "#--------------------------------------------------------------------------------\n",
        "#%%\n",
        "#--------------------------------------------------------------------------------\n",
        "# 陣列切割(Slicing): 切割表示從兩個索引間取出資料\n",
        "# 一般語法： [起，迄，間隔]，起未指定表從0開始，間隔未指定則以1代表，迄未指定則到最後1筆資料\n",
        "#--------------------------------------------------------------------------------\n",
        "\n",
        "import numpy as np\n",
        "\n",
        "# 宣告1維陣列\n",
        "arr = np.array([1, 2, 3, 4, 5, 6, 7])\n",
        "\n",
        "# 起1，迄5，表第2-第4個元素\n",
        "print(arr[1:5])"
      ],
      "execution_count": null,
      "outputs": [
        {
          "output_type": "stream",
          "text": [
            "[2 3 4 5]\n"
          ],
          "name": "stdout"
        }
      ]
    },
    {
      "cell_type": "code",
      "metadata": {
        "id": "-bR-Tks-o3Us",
        "outputId": "0aa545f9-b9c5-4030-a443-8cc8896652e2"
      },
      "source": [
        "#--------------------------------------------------------------------------------\n",
        "#%%: 未指定[迄]\n",
        "\n",
        "import numpy as np\n",
        "\n",
        "arr = np.array([1, 2, 3, 4, 5, 6, 7])\n",
        "\n",
        "# 未指定迄，則取到最後一筆資料\n",
        "print(arr[4:])"
      ],
      "execution_count": null,
      "outputs": [
        {
          "output_type": "stream",
          "text": [
            "[5 6 7]\n"
          ],
          "name": "stdout"
        }
      ]
    },
    {
      "cell_type": "code",
      "metadata": {
        "id": "GEc8iUQ8o3Us",
        "outputId": "23b438ee-b865-426a-92a5-abfbf9e683f5"
      },
      "source": [
        "#--------------------------------------------------------------------------------\n",
        "#%%: 未指定[起]\n",
        "\n",
        "import numpy as np\n",
        "\n",
        "arr = np.array([1, 2, 3, 4, 5, 6, 7])\n",
        "\n",
        "# 從第1筆到第3筆，不含第4筆\n",
        "print(arr[:4])"
      ],
      "execution_count": null,
      "outputs": [
        {
          "output_type": "stream",
          "text": [
            "[1 2 3 4]\n"
          ],
          "name": "stdout"
        }
      ]
    },
    {
      "cell_type": "code",
      "metadata": {
        "id": "B5E8eJKlo3Ut",
        "outputId": "bd15ef3a-0650-4219-fa40-c5684a405e3a"
      },
      "source": [
        "#--------------------------------------------------------------------------------\n",
        "#%%: 負切割(Negative slicing)\n",
        "\n",
        "import numpy as np\n",
        "\n",
        "arr = np.array([1, 2, 3, 4, 5, 6, 7])\n",
        "\n",
        "# -1表最後1個，-3表最後第3個，但-1是[迄]，不包括\n",
        "print(arr[-3:-1])"
      ],
      "execution_count": null,
      "outputs": [
        {
          "output_type": "stream",
          "text": [
            "[5 6]\n"
          ],
          "name": "stdout"
        }
      ]
    },
    {
      "cell_type": "code",
      "metadata": {
        "id": "m42hwLYQo3Ut",
        "outputId": "d76fc981-9a4e-4127-b1e2-4d2e0a818f13"
      },
      "source": [
        "#--------------------------------------------------------------------------------\n",
        "#%%: 間隔\n",
        "\n",
        "import numpy as np\n",
        "\n",
        "arr = np.array([1, 2, 3, 4, 5, 6, 7])\n",
        "\n",
        "# 間隔2，索引範圍：1,3,5，但5不包括\n",
        "print(arr[1:5:2])"
      ],
      "execution_count": null,
      "outputs": [
        {
          "output_type": "stream",
          "text": [
            "[2 4]\n"
          ],
          "name": "stdout"
        }
      ]
    },
    {
      "cell_type": "code",
      "metadata": {
        "id": "8aLWvdUOo3Uu",
        "outputId": "39e1149a-ff62-4be5-f754-f350f1096b66"
      },
      "source": [
        "#--------------------------------------------------------------------------------\n",
        "#%%: 僅間隔，未指定起迄\n",
        "\n",
        "import numpy as np\n",
        "\n",
        "arr = np.array([1, 2, 3, 4, 5, 6, 7])\n",
        "\n",
        "# 間隔2的所有元素: 1,3,5,7\n",
        "print(arr[::2])"
      ],
      "execution_count": null,
      "outputs": [
        {
          "output_type": "stream",
          "text": [
            "[1 3 5 7]\n"
          ],
          "name": "stdout"
        }
      ]
    },
    {
      "cell_type": "code",
      "metadata": {
        "id": "v_6dgBhxo3Uu",
        "outputId": "401ee54b-d0a0-459a-a418-fd744e86712b"
      },
      "source": [
        "#--------------------------------------------------------------------------------\n",
        "#%%: 切割2維陣列\n",
        "\n",
        "import numpy as np\n",
        "\n",
        "# 宣告2維陣列\n",
        "arr = np.array([[1, 2, 3, 4, 5], [6, 7, 8, 9, 10]])\n",
        "\n",
        "# 第2維度，第1-3個元素,4不含\n",
        "print(arr[1, 1:4])"
      ],
      "execution_count": null,
      "outputs": [
        {
          "output_type": "stream",
          "text": [
            "[7 8 9]\n"
          ],
          "name": "stdout"
        }
      ]
    },
    {
      "cell_type": "code",
      "metadata": {
        "id": "UOk7tAzjo3Uv",
        "outputId": "e577db90-9aab-4710-ca58-650fa96105be"
      },
      "source": [
        "#--------------------------------------------------------------------------------\n",
        "#%%\n",
        "\n",
        "import numpy as np\n",
        "\n",
        "arr = np.array([[1, 2, 3, 4, 5], [6, 7, 8, 9, 10]])\n",
        "\n",
        "# 2個陣列的第2個元素，未指定起迄，數字直接代表元素位置\n",
        "print(arr[0:2, 2])"
      ],
      "execution_count": null,
      "outputs": [
        {
          "output_type": "stream",
          "text": [
            "[3 8]\n"
          ],
          "name": "stdout"
        }
      ]
    },
    {
      "cell_type": "code",
      "metadata": {
        "id": "YsJmxwhco3Uv",
        "outputId": "e74d44a7-a31c-49b3-bae5-67a996cda15c"
      },
      "source": [
        "#--------------------------------------------------------------------------------\n",
        "#%%\n",
        "\n",
        "import numpy as np\n",
        "\n",
        "arr = np.array([[1, 2, 3, 4, 5], [6, 7, 8, 9, 10]])\n",
        "\n",
        "# 指定起迄，迄均不包含\n",
        "print(arr[0:2, 1:4])"
      ],
      "execution_count": null,
      "outputs": [
        {
          "output_type": "stream",
          "text": [
            "[[2 3 4]\n",
            " [7 8 9]]\n"
          ],
          "name": "stdout"
        }
      ]
    },
    {
      "cell_type": "markdown",
      "metadata": {
        "id": "0Ut9_Z7Ro3Uw"
      },
      "source": [
        "# Numpy資料類型"
      ]
    },
    {
      "cell_type": "code",
      "metadata": {
        "id": "-BujY3gGo3Uw"
      },
      "source": [
        "#--------------------------------------------------------------------------------\n",
        "#%%: Numpy資料類型\n",
        "#--------------------------------------------------------------------------------\n",
        "# Python資料類型(僅列舉主要)\n",
        "## string: 字元\n",
        "## integer: 整數\n",
        "## float: 浮點數(含小數位數)\n",
        "## boolean: 布林值\n",
        "\n",
        "# Numpy資料類型(僅列舉主要)\n",
        "## i: integer\n",
        "## b: boolean\n",
        "## u: unsigned integer (正數)\n",
        "## f: float\n",
        "## M: datetime\n",
        "## S: string\n",
        "## U: unicode string"
      ],
      "execution_count": null,
      "outputs": []
    },
    {
      "cell_type": "code",
      "metadata": {
        "id": "jUO3yPk0o3Ux",
        "outputId": "8fb46be6-5228-4df9-acfe-9b93ef43e307"
      },
      "source": [
        "#--------------------------------------------------------------------------------\n",
        "#%% 確認array資料類型\n",
        "import numpy as np\n",
        "\n",
        "arr = np.array([1, 2, 3, 4])\n",
        "\n",
        "# 使用.dtype\n",
        "print(arr.dtype)"
      ],
      "execution_count": null,
      "outputs": [
        {
          "output_type": "stream",
          "text": [
            "int32\n"
          ],
          "name": "stdout"
        }
      ]
    },
    {
      "cell_type": "code",
      "metadata": {
        "id": "zgWrILsOo3Ux",
        "outputId": "231e31b8-0d2a-443f-b2ef-5b19864b6827"
      },
      "source": [
        "#--------------------------------------------------------------------------------\n",
        "#%%\n",
        "\n",
        "import numpy as np\n",
        "\n",
        "arr = np.array(['apple', 'banana', 'cherry'])\n",
        "\n",
        "# 顯示陣列資料類型: Python3使用Unicode方式表達字串\n",
        "print(arr.dtype)"
      ],
      "execution_count": null,
      "outputs": [
        {
          "output_type": "stream",
          "text": [
            "<U6\n"
          ],
          "name": "stdout"
        }
      ]
    },
    {
      "cell_type": "code",
      "metadata": {
        "id": "f6E3eULgo3Uy",
        "outputId": "6fbcc272-dc98-4fa2-9efa-bb8a53d99331"
      },
      "source": [
        "#--------------------------------------------------------------------------------\n",
        "#%%: 產生陣列時指定資料型態\n",
        "\n",
        "import numpy as np\n",
        "\n",
        "arr = np.array([1, 2, 3, 4], dtype = 'S') # 字串類型\n",
        "\n",
        "print(arr)\n",
        "\n",
        "# 顯示陣列資料類型: b表示byte-string\n",
        "print(arr.dtype)"
      ],
      "execution_count": null,
      "outputs": [
        {
          "output_type": "stream",
          "text": [
            "[b'1' b'2' b'3' b'4']\n",
            "|S1\n"
          ],
          "name": "stdout"
        }
      ]
    },
    {
      "cell_type": "code",
      "metadata": {
        "id": "GG1_7bFMo3Uy",
        "outputId": "2be4168e-2c2b-4007-c9d2-8f14dece4d4a"
      },
      "source": [
        "#--------------------------------------------------------------------------------\n",
        "#%%: 產生陣列時指定資料型態及大小\n",
        "\n",
        "import numpy as np\n",
        "\n",
        "arr = np.array([1, 2, 3, 4], dtype = 'i4') # i4為4bytes (8*4個01組合)的integer\n",
        "\n",
        "print(arr)\n",
        "\n",
        "# 顯示資料類型\n",
        "print(arr.dtype)"
      ],
      "execution_count": null,
      "outputs": [
        {
          "output_type": "stream",
          "text": [
            "[1 2 3 4]\n",
            "int32\n"
          ],
          "name": "stdout"
        }
      ]
    },
    {
      "cell_type": "code",
      "metadata": {
        "id": "JY74gR0Xo3Uz",
        "outputId": "bc53c253-f573-4cc4-e81a-a4eb70fec2b3"
      },
      "source": [
        "#--------------------------------------------------------------------------------\n",
        "#%%: 資料類型轉換有問題\n",
        "\n",
        "import numpy as np\n",
        "\n",
        "arr = np.array(['a', '2', '3'], dtype='i')"
      ],
      "execution_count": null,
      "outputs": [
        {
          "output_type": "error",
          "ename": "ValueError",
          "evalue": "invalid literal for int() with base 10: 'a'",
          "traceback": [
            "\u001b[1;31m---------------------------------------------------------------------------\u001b[0m",
            "\u001b[1;31mValueError\u001b[0m                                Traceback (most recent call last)",
            "\u001b[1;32m<ipython-input-144-fdfb9110d5e1>\u001b[0m in \u001b[0;36m<module>\u001b[1;34m\u001b[0m\n\u001b[0;32m      4\u001b[0m \u001b[1;32mimport\u001b[0m \u001b[0mnumpy\u001b[0m \u001b[1;32mas\u001b[0m \u001b[0mnp\u001b[0m\u001b[1;33m\u001b[0m\u001b[1;33m\u001b[0m\u001b[0m\n\u001b[0;32m      5\u001b[0m \u001b[1;33m\u001b[0m\u001b[0m\n\u001b[1;32m----> 6\u001b[1;33m \u001b[0marr\u001b[0m \u001b[1;33m=\u001b[0m \u001b[0mnp\u001b[0m\u001b[1;33m.\u001b[0m\u001b[0marray\u001b[0m\u001b[1;33m(\u001b[0m\u001b[1;33m[\u001b[0m\u001b[1;34m'a'\u001b[0m\u001b[1;33m,\u001b[0m \u001b[1;34m'2'\u001b[0m\u001b[1;33m,\u001b[0m \u001b[1;34m'3'\u001b[0m\u001b[1;33m]\u001b[0m\u001b[1;33m,\u001b[0m \u001b[0mdtype\u001b[0m\u001b[1;33m=\u001b[0m\u001b[1;34m'i'\u001b[0m\u001b[1;33m)\u001b[0m\u001b[1;33m\u001b[0m\u001b[1;33m\u001b[0m\u001b[0m\n\u001b[0m",
            "\u001b[1;31mValueError\u001b[0m: invalid literal for int() with base 10: 'a'"
          ]
        }
      ]
    },
    {
      "cell_type": "code",
      "metadata": {
        "id": "wIKz1wobo3U0",
        "outputId": "fbc5f94e-4a5d-4a52-8dbf-23c408170765"
      },
      "source": [
        "#--------------------------------------------------------------------------------\n",
        "#%%: 資料類型轉換-方法一\n",
        "\n",
        "import numpy as np\n",
        "\n",
        "arr = np.array([1.1, 2.1, 3.1])\n",
        "\n",
        "# 轉換為整數\n",
        "newarr = arr.astype('i')\n",
        "\n",
        "# 顯示結果\n",
        "print(newarr)\n",
        "print(newarr.dtype)"
      ],
      "execution_count": null,
      "outputs": [
        {
          "output_type": "stream",
          "text": [
            "[1 2 3]\n",
            "int32\n"
          ],
          "name": "stdout"
        }
      ]
    },
    {
      "cell_type": "code",
      "metadata": {
        "id": "waDI3DMro3U2",
        "outputId": "1d4ea4fb-7622-4b0b-d325-50e119d58d3d"
      },
      "source": [
        "#--------------------------------------------------------------------------------\n",
        "#%%: 資料類型轉換-方法二\n",
        "\n",
        "import numpy as np\n",
        "\n",
        "arr = np.array([1.1, 2.1, 3.1])\n",
        "\n",
        "# 指定int\n",
        "newarr = arr.astype(int)\n",
        "\n",
        "# 顯示結果\n",
        "print(newarr)\n",
        "print(newarr.dtype)"
      ],
      "execution_count": null,
      "outputs": [
        {
          "output_type": "stream",
          "text": [
            "[1 2 3]\n",
            "int32\n"
          ],
          "name": "stdout"
        }
      ]
    },
    {
      "cell_type": "code",
      "metadata": {
        "id": "NolSdOxJo3U2",
        "outputId": "aef7ab42-8386-44a6-90e2-0fb29aabda24"
      },
      "source": [
        "#--------------------------------------------------------------------------------\n",
        "#%%: 資料類型轉換--整數-->布林值\n",
        "\n",
        "import numpy as np\n",
        "\n",
        "arr = np.array([1, 0, 3])\n",
        "\n",
        "# 指定bool\n",
        "newarr = arr.astype(bool)\n",
        "\n",
        "# 顯示結果\n",
        "print(newarr) # 非0就是True\n",
        "print(newarr.dtype)"
      ],
      "execution_count": null,
      "outputs": [
        {
          "output_type": "stream",
          "text": [
            "[ True False  True]\n",
            "bool\n"
          ],
          "name": "stdout"
        }
      ]
    },
    {
      "cell_type": "markdown",
      "metadata": {
        "id": "SSo4jNF2o3U3"
      },
      "source": [
        "# Copy vs. View"
      ]
    },
    {
      "cell_type": "code",
      "metadata": {
        "id": "uzGWzCJbo3U3",
        "outputId": "346e9cde-034f-4248-d222-bed3a9bcdd6a"
      },
      "source": [
        "#--------------------------------------------------------------------------------\n",
        "#%%: Copy vs View: https://www.w3schools.com/python/numpy_copy_vs_view.asp\n",
        "# Copy為新陣列\n",
        "# View為原陣列\n",
        "#--------------------------------------------------------------------------------\n",
        "import numpy as np\n",
        "\n",
        "# 宣告一維陣列\n",
        "arr = np.array([1, 2, 3, 4, 5])\n",
        "\n",
        "# 將arr複製(Copy)一份\n",
        "x = arr.copy()\n",
        "\n",
        "# 修改arr的第1格元素\n",
        "arr[0] = 42\n",
        "\n",
        "# 顯示arr\n",
        "print(arr)\n",
        "\n",
        "# 顯示複製的陣列\n",
        "print(x)"
      ],
      "execution_count": null,
      "outputs": [
        {
          "output_type": "stream",
          "text": [
            "[42  2  3  4  5]\n",
            "[1 2 3 4 5]\n"
          ],
          "name": "stdout"
        }
      ]
    },
    {
      "cell_type": "code",
      "metadata": {
        "id": "L9di7yOuo3U4",
        "outputId": "e3235563-0b95-4885-e669-587f12357299"
      },
      "source": [
        "#--------------------------------------------------------------------------------\n",
        "#%%: \n",
        "import numpy as np\n",
        "\n",
        "# 宣告陣列\n",
        "arr = np.array([1, 2, 3, 4, 5])\n",
        "\n",
        "# 使用view，可想成是Windows中的捷徑\n",
        "x = arr.view()\n",
        "\n",
        "# 修改arr的第1個元素，x內容跟著被改\n",
        "arr[0] = 42\n",
        "\n",
        "# 顯示arr: 被更改\n",
        "print(arr)\n",
        "\n",
        "# 顯示x: 被更改\n",
        "print(x)"
      ],
      "execution_count": null,
      "outputs": [
        {
          "output_type": "stream",
          "text": [
            "[42  2  3  4  5]\n",
            "[42  2  3  4  5]\n"
          ],
          "name": "stdout"
        }
      ]
    },
    {
      "cell_type": "code",
      "metadata": {
        "id": "zaajPaWPo3U5",
        "outputId": "a2265b5d-ba8a-490e-83fd-df5aa7161b65"
      },
      "source": [
        "#--------------------------------------------------------------------------------\n",
        "#%%: 修改view\n",
        "\n",
        "import numpy as np\n",
        "\n",
        "arr = np.array([1, 2, 3, 4, 5])\n",
        "x = arr.view()\n",
        "\n",
        "# 修改第1個元素\n",
        "x[0] = 31\n",
        "\n",
        "# 顯示arr: 被更改\n",
        "print(arr)\n",
        "\n",
        "# 顯示x: 被更改\n",
        "print(x)"
      ],
      "execution_count": null,
      "outputs": [
        {
          "output_type": "stream",
          "text": [
            "[31  2  3  4  5]\n",
            "[31  2  3  4  5]\n"
          ],
          "name": "stdout"
        }
      ]
    },
    {
      "cell_type": "code",
      "metadata": {
        "id": "_30dgL2Io3U5",
        "outputId": "0e413494-dae9-44aa-8953-7701c85c3efb"
      },
      "source": [
        "#--------------------------------------------------------------------------------\n",
        "#%%: 檢查變數是否有自己的資料\n",
        "import numpy as np\n",
        "\n",
        "arr = np.array([1, 2, 3, 4, 5])\n",
        "\n",
        "# x使用copy，表與arr不同資料\n",
        "x = arr.copy()\n",
        "\n",
        "# y使用view, 表與arr相同資料\n",
        "y = arr.view()\n",
        "\n",
        "# 如顯示None，表示自己擁有自己的資料\n",
        "print(x.base)\n",
        "print(y.base)"
      ],
      "execution_count": null,
      "outputs": [
        {
          "output_type": "stream",
          "text": [
            "None\n",
            "[1 2 3 4 5]\n"
          ],
          "name": "stdout"
        }
      ]
    },
    {
      "cell_type": "markdown",
      "metadata": {
        "id": "PBv8FKDMo3U6"
      },
      "source": [
        "# 陣列形狀(Array shape)"
      ]
    },
    {
      "cell_type": "code",
      "metadata": {
        "cellView": "form",
        "id": "sDqM28u5o3U6"
      },
      "source": [
        "#@title\n",
        "# https://www.w3schools.com/python/numpy_array_shape.asp"
      ],
      "execution_count": null,
      "outputs": []
    },
    {
      "cell_type": "code",
      "metadata": {
        "cellView": "form",
        "id": "MOvRjm4ho3U6",
        "outputId": "8fd2ff34-4db9-4d57-ee91-6787181be4cd"
      },
      "source": [
        "#@title\n",
        "#--------------------------------------------------------------------------------\n",
        "#%%:\n",
        "import numpy as np\n",
        "\n",
        "# 二維陣列: 每個陣列有4個元素\n",
        "arr = np.array([[1, 2, 3, 4], [5, 6, 7, 8]])\n",
        "\n",
        "# 顯示形狀\n",
        "print(arr.shape)\n"
      ],
      "execution_count": null,
      "outputs": [
        {
          "output_type": "stream",
          "text": [
            "(2, 4)\n"
          ],
          "name": "stdout"
        }
      ]
    },
    {
      "cell_type": "code",
      "metadata": {
        "cellView": "form",
        "id": "Juh1wHeno3U7",
        "outputId": "ce5ee790-178d-416a-d063-343a625da7d9"
      },
      "source": [
        "#@title\n",
        "#--------------------------------------------------------------------------------\n",
        "#%%: \n",
        "import numpy as np\n",
        "\n",
        "# 宣告5維陣列\n",
        "arr = np.array([1, 2, 3, 4], ndmin = 5)\n",
        "\n",
        "# 顯示陣列內容\n",
        "print(arr)\n",
        "\n",
        "# 顯示陣列形狀\n",
        "print('shape of array :', arr.shape)"
      ],
      "execution_count": null,
      "outputs": [
        {
          "output_type": "stream",
          "text": [
            "[[[[[1 2 3 4]]]]]\n",
            "shape of array : (1, 1, 1, 1, 4)\n"
          ],
          "name": "stdout"
        }
      ]
    },
    {
      "cell_type": "markdown",
      "metadata": {
        "id": "LZSC5NWao3U7"
      },
      "source": [
        "# 陣列變型(Array reshape)"
      ]
    },
    {
      "cell_type": "code",
      "metadata": {
        "id": "b8yNzP7No3U7",
        "outputId": "1fefea2b-580e-4f87-b1b1-cb65c0a2f885"
      },
      "source": [
        "#--------------------------------------------------------------------------------\n",
        "#%%: 1維->2維\n",
        "\n",
        "import numpy as np\n",
        "\n",
        "# 1維陣列\n",
        "arr = np.array([1, 2, 3, 4, 5, 6, 7, 8, 9, 10, 11, 12])\n",
        "\n",
        "# 轉為2維，4個陣列，每個陣列3個元素\n",
        "newarr = arr.reshape(4, 3)\n",
        "\n",
        "# 顯示陣列內容\n",
        "print(arr)\n",
        "print(newarr)\n"
      ],
      "execution_count": null,
      "outputs": [
        {
          "output_type": "stream",
          "text": [
            "[ 1  2  3  4  5  6  7  8  9 10 11 12]\n",
            "[[ 1  2  3]\n",
            " [ 4  5  6]\n",
            " [ 7  8  9]\n",
            " [10 11 12]]\n"
          ],
          "name": "stdout"
        }
      ]
    },
    {
      "cell_type": "code",
      "metadata": {
        "id": "Xpnv8nLTo3U7",
        "outputId": "adaf8852-8882-4171-b3a2-e1ef88060738"
      },
      "source": [
        "#--------------------------------------------------------------------------------\n",
        "#%%: 1維->3維\n",
        "\n",
        "import numpy as np\n",
        "\n",
        "arr = np.array([1, 2, 3, 4, 5, 6, 7, 8, 9, 10, 11, 12])\n",
        "\n",
        "# 變成2個陣列，各含3個陣列(內含2個元素)\n",
        "newarr = arr.reshape(2, 3, 2)\n",
        "\n",
        "# 顯示陣列內容\n",
        "print(arr)\n",
        "print(newarr)"
      ],
      "execution_count": null,
      "outputs": [
        {
          "output_type": "stream",
          "text": [
            "[ 1  2  3  4  5  6  7  8  9 10 11 12]\n",
            "[[[ 1  2]\n",
            "  [ 3  4]\n",
            "  [ 5  6]]\n",
            "\n",
            " [[ 7  8]\n",
            "  [ 9 10]\n",
            "  [11 12]]]\n"
          ],
          "name": "stdout"
        }
      ]
    },
    {
      "cell_type": "code",
      "metadata": {
        "id": "v3PZV4CNo3U8",
        "outputId": "1b3af72a-b597-4f87-92c1-86a1d58c9a33"
      },
      "source": [
        "#--------------------------------------------------------------------------------\n",
        "#%%: 形狀不同陣列無法互轉\n",
        "\n",
        "import numpy as np\n",
        "\n",
        "# 1*8 = 8\n",
        "arr = np.array([1, 2, 3, 4, 5, 6, 7, 8])\n",
        "\n",
        "# 3*3 = 9\n",
        "newarr = arr.reshape(3, 3)\n",
        "\n",
        "print(newarr)"
      ],
      "execution_count": null,
      "outputs": [
        {
          "output_type": "error",
          "ename": "ValueError",
          "evalue": "cannot reshape array of size 8 into shape (3,3)",
          "traceback": [
            "\u001b[1;31m---------------------------------------------------------------------------\u001b[0m",
            "\u001b[1;31mValueError\u001b[0m                                Traceback (most recent call last)",
            "\u001b[1;32m<ipython-input-11-c92b11fbf3dc>\u001b[0m in \u001b[0;36m<module>\u001b[1;34m\u001b[0m\n\u001b[0;32m      6\u001b[0m \u001b[0marr\u001b[0m \u001b[1;33m=\u001b[0m \u001b[0mnp\u001b[0m\u001b[1;33m.\u001b[0m\u001b[0marray\u001b[0m\u001b[1;33m(\u001b[0m\u001b[1;33m[\u001b[0m\u001b[1;36m1\u001b[0m\u001b[1;33m,\u001b[0m \u001b[1;36m2\u001b[0m\u001b[1;33m,\u001b[0m \u001b[1;36m3\u001b[0m\u001b[1;33m,\u001b[0m \u001b[1;36m4\u001b[0m\u001b[1;33m,\u001b[0m \u001b[1;36m5\u001b[0m\u001b[1;33m,\u001b[0m \u001b[1;36m6\u001b[0m\u001b[1;33m,\u001b[0m \u001b[1;36m7\u001b[0m\u001b[1;33m,\u001b[0m \u001b[1;36m8\u001b[0m\u001b[1;33m]\u001b[0m\u001b[1;33m)\u001b[0m\u001b[1;33m\u001b[0m\u001b[1;33m\u001b[0m\u001b[0m\n\u001b[0;32m      7\u001b[0m \u001b[1;33m\u001b[0m\u001b[0m\n\u001b[1;32m----> 8\u001b[1;33m \u001b[0mnewarr\u001b[0m \u001b[1;33m=\u001b[0m \u001b[0marr\u001b[0m\u001b[1;33m.\u001b[0m\u001b[0mreshape\u001b[0m\u001b[1;33m(\u001b[0m\u001b[1;36m3\u001b[0m\u001b[1;33m,\u001b[0m \u001b[1;36m3\u001b[0m\u001b[1;33m)\u001b[0m\u001b[1;33m\u001b[0m\u001b[1;33m\u001b[0m\u001b[0m\n\u001b[0m\u001b[0;32m      9\u001b[0m \u001b[1;33m\u001b[0m\u001b[0m\n\u001b[0;32m     10\u001b[0m \u001b[0mprint\u001b[0m\u001b[1;33m(\u001b[0m\u001b[0mnewarr\u001b[0m\u001b[1;33m)\u001b[0m\u001b[1;33m\u001b[0m\u001b[1;33m\u001b[0m\u001b[0m\n",
            "\u001b[1;31mValueError\u001b[0m: cannot reshape array of size 8 into shape (3,3)"
          ]
        }
      ]
    },
    {
      "cell_type": "code",
      "metadata": {
        "id": "ngkk9uPto3U8",
        "outputId": "e8e2898b-2123-4e48-ddf1-a857953e772d"
      },
      "source": [
        "#--------------------------------------------------------------------------------\n",
        "#%%: 轉成一維陣列: flattend or ravel\n",
        "import numpy as np\n",
        "\n",
        "arr = np.array([[4, 5, 6], [1, 2, 3]])\n",
        "\n",
        "# -1表扁平化陣列，變成一維\n",
        "newarr = arr.reshape(-1)\n",
        "\n",
        "print(newarr)"
      ],
      "execution_count": null,
      "outputs": [
        {
          "output_type": "stream",
          "text": [
            "[4 5 6 1 2 3]\n"
          ],
          "name": "stdout"
        }
      ]
    },
    {
      "cell_type": "code",
      "metadata": {
        "id": "HMa4JWANo3U8",
        "outputId": "df3890d6-c72e-4b82-cdb2-538a221ae5d3"
      },
      "source": [
        "#--------------------------------------------------------------------------------\n",
        "#%%: 轉成一維陣列: flattend or ravel\n",
        "import numpy as np\n",
        "\n",
        "arr = np.array([[4, 5, 6], [1, 2, 3]])\n",
        "\n",
        "# -1表扁平化陣列，變成一維\n",
        "newarr = arr.ravel()\n",
        "\n",
        "print(newarr)"
      ],
      "execution_count": null,
      "outputs": [
        {
          "output_type": "stream",
          "text": [
            "[4 5 6 1 2 3]\n"
          ],
          "name": "stdout"
        }
      ]
    },
    {
      "cell_type": "markdown",
      "metadata": {
        "id": "npFlvic6o3U9"
      },
      "source": [
        "# 陣列繞圈(Iterating)"
      ]
    },
    {
      "cell_type": "code",
      "metadata": {
        "id": "KURNhC8Eo3U9",
        "outputId": "f0bee33e-2fa5-4feb-e73f-8086888da741"
      },
      "source": [
        "#--------------------------------------------------------------------------------\n",
        "#%%: 一維陣列\n",
        "\n",
        "import numpy as np\n",
        "\n",
        "# 宣告陣列\n",
        "arr = np.array([1, 2, 3])\n",
        "\n",
        "# 利用for迴圈\n",
        "for x in arr:\n",
        "  \n",
        "  # 顯示陣列元素  \n",
        "  print(x)"
      ],
      "execution_count": null,
      "outputs": [
        {
          "output_type": "stream",
          "text": [
            "1\n",
            "2\n",
            "3\n"
          ],
          "name": "stdout"
        }
      ]
    },
    {
      "cell_type": "code",
      "metadata": {
        "id": "2klqEOJEo3U9",
        "outputId": "4e71a6a4-ce1c-4f76-abdb-198c7161eaf7"
      },
      "source": [
        "#--------------------------------------------------------------------------------\n",
        "#%%: 二維陣列: 依據每個維度內容依序，仍回傳陣列\n",
        "\n",
        "import numpy as np\n",
        "\n",
        "arr = np.array([[1, 2, 3], [4, 5, 6]])\n",
        "\n",
        "for x in arr:\n",
        "  \n",
        "  # 顯示陣列元素\n",
        "  print(x)"
      ],
      "execution_count": null,
      "outputs": [
        {
          "output_type": "stream",
          "text": [
            "[1 2 3]\n",
            "[4 5 6]\n"
          ],
          "name": "stdout"
        }
      ]
    },
    {
      "cell_type": "code",
      "metadata": {
        "id": "B8MWDQ7Mo3U-",
        "outputId": "473ea28d-87e6-42eb-ff44-3ad1190f075d"
      },
      "source": [
        "#--------------------------------------------------------------------------------\n",
        "#%%: 多維陣列回傳實際值，非以陣列形式回傳\n",
        "\n",
        "import numpy as np\n",
        "\n",
        "arr = np.array([[1, 2, 3], [4, 5, 6]])\n",
        "\n",
        "# 第一層迴圈：維度\n",
        "for x in arr:\n",
        "  \n",
        "  # 第二層迴圈：陣列內元素\n",
        "  for y in x:\n",
        "    \n",
        "    # 顯示陣列內實際值\n",
        "    print(y)"
      ],
      "execution_count": null,
      "outputs": [
        {
          "output_type": "stream",
          "text": [
            "1\n",
            "2\n",
            "3\n",
            "4\n",
            "5\n",
            "6\n"
          ],
          "name": "stdout"
        }
      ]
    },
    {
      "cell_type": "code",
      "metadata": {
        "id": "CxEfL4w6o3U-",
        "outputId": "281f5441-3eb9-49ed-e73d-4b8b0cffd17b"
      },
      "source": [
        "#--------------------------------------------------------------------------------\n",
        "#%%: 三維陣列: 依據每個維度內容依序，仍回傳陣列\n",
        "\n",
        "import numpy as np\n",
        "\n",
        "# 宣告三維陣列\n",
        "arr = np.array([[[1, 2, 3], [4, 5, 6]], [[7, 8, 9], [10, 11, 12]]])\n",
        "\n",
        "for x in arr:\n",
        "    \n",
        "    # 顯示陣列元素 \n",
        "    print(x)"
      ],
      "execution_count": null,
      "outputs": [
        {
          "output_type": "stream",
          "text": [
            "[[1 2 3]\n",
            " [4 5 6]]\n",
            "[[ 7  8  9]\n",
            " [10 11 12]]\n"
          ],
          "name": "stdout"
        }
      ]
    },
    {
      "cell_type": "code",
      "metadata": {
        "id": "zO0iIUfno3U_",
        "outputId": "4bdd4fb0-7173-47ac-89cb-9fa0eeb9f669"
      },
      "source": [
        "#--------------------------------------------------------------------------------\n",
        "#%%: 修改view\n",
        "\n",
        "import numpy as np\n",
        "\n",
        "# 宣告三維陣列\n",
        "arr = np.array([[[1, 2, 3], [4, 5, 6]], [[7, 8, 9], [10, 11, 12]]])\n",
        "\n",
        "\n",
        "# 第一層迴圈\n",
        "for x in arr:\n",
        "    \n",
        "    # 第二層迴圈\n",
        "    for y in x:\n",
        "        \n",
        "        # 第三層迴圈\n",
        "        for z in y:\n",
        "            \n",
        "            # 顯示陣列內容  \n",
        "            print(z)"
      ],
      "execution_count": null,
      "outputs": [
        {
          "output_type": "stream",
          "text": [
            "1\n",
            "2\n",
            "3\n",
            "4\n",
            "5\n",
            "6\n",
            "7\n",
            "8\n",
            "9\n",
            "10\n",
            "11\n",
            "12\n"
          ],
          "name": "stdout"
        }
      ]
    },
    {
      "cell_type": "code",
      "metadata": {
        "id": "ahBapv6ko3U_",
        "outputId": "287259ad-213a-4793-cf00-a68c21c60c4f"
      },
      "source": [
        "#--------------------------------------------------------------------------------\n",
        "#%%: nditer功能：解決多維度陣列回傳陣列問題\n",
        "\n",
        "import numpy as np\n",
        "\n",
        "# 宣告三維陣列\n",
        "arr = np.array([[[1, 2], [3, 4]], [[5, 6], [7, 8]]])\n",
        "\n",
        "# 顯示arr\n",
        "\n",
        "# 直接以nditer顯示陣列內元素\n",
        "for x in np.nditer(arr):\n",
        "  print(x)\n"
      ],
      "execution_count": null,
      "outputs": [
        {
          "output_type": "stream",
          "text": [
            "1\n",
            "2\n",
            "3\n",
            "4\n",
            "5\n",
            "6\n",
            "7\n",
            "8\n"
          ],
          "name": "stdout"
        }
      ]
    },
    {
      "cell_type": "code",
      "metadata": {
        "id": "cSE98bdIo3U_",
        "outputId": "56895ea4-8603-478a-c88c-c710e6e01174"
      },
      "source": [
        "#--------------------------------------------------------------------------------\n",
        "#%%: 陣列繞圈時修改資料類型態(進階)\n",
        "\n",
        "import numpy as np\n",
        "\n",
        "arr = np.array([1, 2, 3])\n",
        "\n",
        "# buffered為資料暫存，供python轉換資料\n",
        "for x in np.nditer(arr, flags = ['buffered'], op_dtypes = ['S']):\n",
        "  print(x)\n",
        "\n"
      ],
      "execution_count": null,
      "outputs": [
        {
          "output_type": "stream",
          "text": [
            "b'1'\n",
            "b'2'\n",
            "b'3'\n"
          ],
          "name": "stdout"
        }
      ]
    },
    {
      "cell_type": "code",
      "metadata": {
        "id": "jU8lkH3To3U_",
        "outputId": "26e7234e-1e24-4f95-f535-d7584ab7c06b"
      },
      "source": [
        "#--------------------------------------------------------------------------------\n",
        "#%%: 陣列繞圈時指定間隔\n",
        "\n",
        "import numpy as np\n",
        "\n",
        "arr = np.array([[1, 2, 3, 4], [5, 6, 7, 8]])\n",
        "\n",
        "# 每個維度，每個陣列，索引間隔2方式繞圈\n",
        "for x in np.nditer(arr[:, ::2]):\n",
        "  print(x)"
      ],
      "execution_count": null,
      "outputs": [
        {
          "output_type": "stream",
          "text": [
            "1\n",
            "3\n",
            "5\n",
            "7\n"
          ],
          "name": "stdout"
        }
      ]
    },
    {
      "cell_type": "code",
      "metadata": {
        "id": "NBZgA1cBo3VA",
        "outputId": "572c1999-e2c7-4989-cbcf-c3e6f690745c"
      },
      "source": [
        "#--------------------------------------------------------------------------------\n",
        "#%%: ndenumerate: 可回傳資料的順序編號\n",
        "\n",
        "import numpy as np\n",
        "\n",
        "arr = np.array([1, 2, 3])\n",
        "\n",
        "# idx維順序編號，x為陣列內元素\n",
        "for idx, x in np.ndenumerate(arr):\n",
        "  print(idx, x)"
      ],
      "execution_count": null,
      "outputs": [
        {
          "output_type": "stream",
          "text": [
            "(0,) 1\n",
            "(1,) 2\n",
            "(2,) 3\n"
          ],
          "name": "stdout"
        }
      ]
    },
    {
      "cell_type": "code",
      "metadata": {
        "id": "REBzS2fEo3VA",
        "outputId": "5f6ec2a5-eab6-4877-a6c3-ea7d1d2f8fda"
      },
      "source": [
        "#--------------------------------------------------------------------------------\n",
        "#%%: ndenumerate: 可回傳資料的順序編號，二維陣列\n",
        "\n",
        "import numpy as np\n",
        "\n",
        "arr = np.array([[1, 2, 3, 4], [5, 6, 7, 8]])\n",
        "\n",
        "# idx同樣為陣列順序編號\n",
        "for idx, x in np.ndenumerate(arr):\n",
        "  print(idx, x)"
      ],
      "execution_count": null,
      "outputs": [
        {
          "output_type": "stream",
          "text": [
            "(0, 0) 1\n",
            "(0, 1) 2\n",
            "(0, 2) 3\n",
            "(0, 3) 4\n",
            "(1, 0) 5\n",
            "(1, 1) 6\n",
            "(1, 2) 7\n",
            "(1, 3) 8\n"
          ],
          "name": "stdout"
        }
      ]
    },
    {
      "cell_type": "markdown",
      "metadata": {
        "id": "6PkQldO3o3VA"
      },
      "source": [
        "# 陣列合併(Join)"
      ]
    },
    {
      "cell_type": "code",
      "metadata": {
        "id": "gdSMR13wo3VB"
      },
      "source": [
        "# https://www.w3schools.com/python/numpy_array_join.asp\n",
        "# concatenate()：合併/串接\n",
        "# vstack()：垂直合併/串接\n",
        "# hstack()：水平合併/串接"
      ],
      "execution_count": null,
      "outputs": []
    },
    {
      "cell_type": "code",
      "metadata": {
        "id": "1YwI8OiUo3VB",
        "outputId": "41133149-8fc2-4828-8aa6-9ed6856b72db"
      },
      "source": [
        "#--------------------------------------------------------------------------------\n",
        "#%%: 三個功能預覽\n",
        "\n",
        "import numpy as np\n",
        "\n",
        "# 產生1維陣列\n",
        "x = np.array([1, 2, 3])\n",
        "y = np.array([4, 5, 6])\n",
        "\n",
        "# 顯示結果\n",
        "print('concatenate----->', np.concatenate([x, y]))    # 串接陣列\n",
        "print('vstack----->', np.vstack([x, y]))              # 垂直串接\n",
        "print('hstack----->', np.hstack([x, y]))              # 水平串接"
      ],
      "execution_count": null,
      "outputs": [
        {
          "output_type": "stream",
          "text": [
            "concatenate-----> [1 2 3 4 5 6]\n",
            "vstack-----> [[1 2 3]\n",
            " [4 5 6]]\n",
            "hstack-----> [1 2 3 4 5 6]\n"
          ],
          "name": "stdout"
        }
      ]
    },
    {
      "cell_type": "code",
      "metadata": {
        "id": "FKmlXrU3o3VB",
        "outputId": "a336e9c9-ccaa-43ac-ed0c-867323d50fb2"
      },
      "source": [
        "#--------------------------------------------------------------------------------\n",
        "#%%: concatenate：合併兩個一維陣列\n",
        "\n",
        "import numpy as np\n",
        "\n",
        "arr1 = np.array([1, 2, 3])\n",
        "\n",
        "arr2 = np.array([4, 5, 6])\n",
        "\n",
        "# 實際合併陣列\n",
        "arr = np.concatenate((arr1, arr2))\n",
        "\n",
        "# 顯示合併後陣列\n",
        "print(arr)"
      ],
      "execution_count": null,
      "outputs": [
        {
          "output_type": "stream",
          "text": [
            "[1 2 3 4 5 6]\n"
          ],
          "name": "stdout"
        }
      ]
    },
    {
      "cell_type": "code",
      "metadata": {
        "id": "lQptzyNpo3VB",
        "outputId": "5355097f-4707-4320-a21d-a300b7f1cb94"
      },
      "source": [
        "#--------------------------------------------------------------------------------\n",
        "#%%: concatenate：合併兩個二維陣列\n",
        "\n",
        "import numpy as np\n",
        "\n",
        "arr1 = np.array([[1, 2], [3, 4]])\n",
        "\n",
        "arr2 = np.array([[5, 6], [7, 8]])\n",
        "\n",
        "# 顯示原始陣列\n",
        "print(arr1)\n",
        "print(arr2)\n",
        "\n",
        "# [\n",
        "# [1 2] [3 4]\n",
        "# \n",
        "# ]\n",
        "# [\n",
        "# [5 6] [7 8]\n",
        "# \n",
        "# ]\n",
        "\n",
        "# 實際合併陣列，可參考：https://www.twblogs.net/a/5c0e6f7cbd9eee5e40bacb1b\n",
        "# https://blog.csdn.net/lbj23hao1/article/details/103695077\n",
        "arr = np.concatenate((arr1, arr2), axis = 1) # axis = 1指依欄(Column，由上而下)合併，預設為列(axis = 0)\n",
        "\n",
        "# 顯示合併後陣列\n",
        "print(arr)"
      ],
      "execution_count": null,
      "outputs": [
        {
          "output_type": "stream",
          "text": [
            "[[1 2]\n",
            " [3 4]]\n",
            "[[5 6]\n",
            " [7 8]]\n",
            "[[1 2 5 6]\n",
            " [3 4 7 8]]\n"
          ],
          "name": "stdout"
        }
      ]
    },
    {
      "cell_type": "code",
      "metadata": {
        "id": "CABLpCqto3VC",
        "outputId": "c6ec404b-cc5f-4230-d515-890a29f62c02"
      },
      "source": [
        "#--------------------------------------------------------------------------------\n",
        "#%%: stack功能，與concatenate類似，但產生新維度\n",
        "\n",
        "import numpy as np\n",
        "\n",
        "arr1 = np.array([1, 2, 3])\n",
        "\n",
        "arr2 = np.array([4, 5, 6])\n",
        "\n",
        "# 顯示原始陣列\n",
        "print(arr1)\n",
        "print(arr2)\n",
        "\n",
        "# [\n",
        "# [1 2 3]\n",
        "# \n",
        "# ]\n",
        "# [\n",
        "# [4 5 6]\n",
        "# \n",
        "# ]\n",
        "\n",
        "\n",
        "# 實際合併陣列\n",
        "arr = np.stack((arr1, arr2), axis = 1) # axis = 1指依欄(Column，由上而下)合併\n",
        "\n",
        "# 顯示合併後陣列，注意多了一組[]\n",
        "print(arr)"
      ],
      "execution_count": null,
      "outputs": [
        {
          "output_type": "stream",
          "text": [
            "[1 2 3]\n",
            "[4 5 6]\n",
            "[[1 4]\n",
            " [2 5]\n",
            " [3 6]]\n"
          ],
          "name": "stdout"
        }
      ]
    },
    {
      "cell_type": "code",
      "metadata": {
        "id": "kDeRZYvTo3VC",
        "outputId": "50036107-3201-4461-bbb5-d03e422ad1ae"
      },
      "source": [
        "#--------------------------------------------------------------------------------\n",
        "#%%: hstack功能: 依據列(Row)合併陣列，與concatenate類似，不產生新維度\n",
        "\n",
        "import numpy as np\n",
        "\n",
        "arr1 = np.array([1, 2, 3])\n",
        "\n",
        "arr2 = np.array([4, 5, 6])\n",
        "\n",
        "# 水平合併\n",
        "arr = np.hstack((arr1, arr2))\n",
        "\n",
        "# 顯示合併後陣列\n",
        "print(arr)"
      ],
      "execution_count": null,
      "outputs": [
        {
          "output_type": "stream",
          "text": [
            "[1 2 3 4 5 6]\n"
          ],
          "name": "stdout"
        }
      ]
    },
    {
      "cell_type": "code",
      "metadata": {
        "id": "AEVhptKHo3VC",
        "outputId": "61377d77-d238-44c6-b3f4-74d9d3505252"
      },
      "source": [
        "#--------------------------------------------------------------------------------\n",
        "#%%: vstack功能: 依據欄(Column)合併陣列，與concatenate類似，但產生新維度\n",
        "\n",
        "import numpy as np\n",
        "\n",
        "arr1 = np.array([1, 2, 3])\n",
        "\n",
        "arr2 = np.array([4, 5, 6])\n",
        "\n",
        "# 垂直合併\n",
        "arr = np.vstack((arr1, arr2))\n",
        "\n",
        "# 顯示合併後陣列\n",
        "print(arr)"
      ],
      "execution_count": null,
      "outputs": [
        {
          "output_type": "stream",
          "text": [
            "[[1 2 3]\n",
            " [4 5 6]]\n"
          ],
          "name": "stdout"
        }
      ]
    },
    {
      "cell_type": "markdown",
      "metadata": {
        "id": "dO5CI2cWo3VD"
      },
      "source": [
        "# 陣列切割(Split)"
      ]
    },
    {
      "cell_type": "code",
      "metadata": {
        "id": "Xi7N7fiNo3VD"
      },
      "source": [
        "# https://www.w3schools.com/python/numpy_array_split.asp"
      ],
      "execution_count": null,
      "outputs": []
    },
    {
      "cell_type": "code",
      "metadata": {
        "id": "6hcibfq8o3VD",
        "outputId": "945dff38-86e5-43a1-df5c-15d3ea1ff735"
      },
      "source": [
        "#--------------------------------------------------------------------------------\n",
        "#%%: array_split(array,index, axis = 0)函數：array表陣列，index表切割數量，axis表依列(0，預設)或欄(1)切割\n",
        "\n",
        "import numpy as np\n",
        "\n",
        "arr = np.array([1, 2, 3, 4, 5, 6])\n",
        "\n",
        "# 切割成3個陣列\n",
        "newarr = np.array_split(arr, 3)\n",
        "\n",
        "# 顯示切割後陣列\n",
        "print(newarr)"
      ],
      "execution_count": null,
      "outputs": [
        {
          "output_type": "stream",
          "text": [
            "[array([1, 2]), array([3, 4]), array([5, 6])]\n"
          ],
          "name": "stdout"
        }
      ]
    },
    {
      "cell_type": "code",
      "metadata": {
        "id": "LAVeusHMo3VD",
        "outputId": "2d068fd5-9830-49c3-fde4-5f89b2cc7103"
      },
      "source": [
        "#--------------------------------------------------------------------------------\n",
        "#%%: 萬一陣列元素無法均分時，從後面調整\n",
        "\n",
        "import numpy as np\n",
        "\n",
        "# 6個元素\n",
        "arr = np.array([1, 2, 3, 4, 5, 6])\n",
        "\n",
        "# 切成4個陣列\n",
        "newarr = np.array_split(arr, 4)\n",
        "\n",
        "print(newarr)"
      ],
      "execution_count": null,
      "outputs": [
        {
          "output_type": "stream",
          "text": [
            "[array([1, 2]), array([3, 4]), array([5]), array([6])]\n"
          ],
          "name": "stdout"
        }
      ]
    },
    {
      "cell_type": "code",
      "metadata": {
        "id": "cEoTGHJco3VE",
        "outputId": "5cd45e89-7303-424e-b307-4f8e52edc72b"
      },
      "source": [
        "#--------------------------------------------------------------------------------\n",
        "#%%: array_split仍回傳陣列，存取方式與陣列元素存取方式相同\n",
        "\n",
        "import numpy as np\n",
        "\n",
        "arr = np.array([1, 2, 3, 4, 5, 6])\n",
        "\n",
        "newarr = np.array_split(arr, 3)\n",
        "\n",
        "print(newarr[0])\n",
        "print(newarr[1])\n",
        "print(newarr[2])"
      ],
      "execution_count": null,
      "outputs": [
        {
          "output_type": "stream",
          "text": [
            "[1 2]\n",
            "[3 4]\n",
            "[5 6]\n"
          ],
          "name": "stdout"
        }
      ]
    },
    {
      "cell_type": "code",
      "metadata": {
        "id": "bjpKkGGKo3VE",
        "outputId": "b4eaa9a3-dd88-441f-922c-76d84287d6d6"
      },
      "source": [
        "#--------------------------------------------------------------------------------\n",
        "#%%: 2維陣列切割->2維陣列\n",
        "\n",
        "import numpy as np\n",
        "\n",
        "# 宣告2維陣列，陣列中包含6個陣列\n",
        "arr = np.array([[1, 2], [3, 4], [5, 6], [7, 8], [9, 10], [11, 12]])\n",
        "\n",
        "# 切割成3個陣列\n",
        "newarr = np.array_split(arr, 3)\n",
        "\n",
        "# 顯示切割後結果\n",
        "print(newarr)"
      ],
      "execution_count": null,
      "outputs": [
        {
          "output_type": "stream",
          "text": [
            "[array([[1, 2],\n",
            "       [3, 4]]), array([[5, 6],\n",
            "       [7, 8]]), array([[ 9, 10],\n",
            "       [11, 12]])]\n"
          ],
          "name": "stdout"
        }
      ]
    },
    {
      "cell_type": "code",
      "metadata": {
        "id": "XaCVJVG5o3VE",
        "outputId": "d84c166d-7611-4b6c-c1bc-ccd8dd3d1502"
      },
      "source": [
        "#--------------------------------------------------------------------------------\n",
        "#%%: 2維陣列切割->2維陣列\n",
        "\n",
        "import numpy as np\n",
        "\n",
        "# 宣告2維陣列，陣列中包含6個陣列，每個子陣列包含3個元素\n",
        "arr = np.array([[1, 2, 3], [4, 5, 6], [7, 8, 9], [10, 11, 12], [13, 14, 15], [16, 17, 18]])\n",
        "\n",
        "# \n",
        "newarr = np.array_split(arr, 3)\n",
        "\n",
        "print(newarr)"
      ],
      "execution_count": null,
      "outputs": [
        {
          "output_type": "stream",
          "text": [
            "[array([[1, 2, 3],\n",
            "       [4, 5, 6]]), array([[ 7,  8,  9],\n",
            "       [10, 11, 12]]), array([[13, 14, 15],\n",
            "       [16, 17, 18]])]\n"
          ],
          "name": "stdout"
        }
      ]
    },
    {
      "cell_type": "code",
      "metadata": {
        "id": "fHw1EaYuo3VE",
        "outputId": "47e03b19-63f5-4fc5-9a68-1480965d6eec"
      },
      "source": [
        "#--------------------------------------------------------------------------------\n",
        "#%%: 依欄(Column)切割陣列\n",
        "\n",
        "import numpy as np\n",
        "\n",
        "# 宣告2維陣列\n",
        "arr = np.array([[1, 2, 3], [4, 5, 6], [7, 8, 9], [10, 11, 12], [13, 14, 15], [16, 17, 18]])\n",
        "\n",
        "# 切割成3個陣列\n",
        "newarr = np.array_split(arr, 3, axis = 1) # 依欄切割(由上而下)\n",
        "\n",
        "# [[1,   2,  3]\n",
        "#  [4,   5,  6]\n",
        "#  [7,   8,  9]\n",
        "#  [10, 11, 12]\n",
        "#  [13, 14, 15]\n",
        "#  [16, 17, 18]\n",
        "# ]\n",
        "\n",
        "\n",
        "# 顯示結果\n",
        "print(newarr)"
      ],
      "execution_count": null,
      "outputs": [
        {
          "output_type": "stream",
          "text": [
            "[array([[ 1],\n",
            "       [ 4],\n",
            "       [ 7],\n",
            "       [10],\n",
            "       [13],\n",
            "       [16]]), array([[ 2],\n",
            "       [ 5],\n",
            "       [ 8],\n",
            "       [11],\n",
            "       [14],\n",
            "       [17]]), array([[ 3],\n",
            "       [ 6],\n",
            "       [ 9],\n",
            "       [12],\n",
            "       [15],\n",
            "       [18]])]\n"
          ],
          "name": "stdout"
        }
      ]
    },
    {
      "cell_type": "code",
      "metadata": {
        "id": "n1FcXEeFo3VF",
        "outputId": "d74f2083-f88b-472d-98cc-a63000c7160d"
      },
      "source": [
        "#--------------------------------------------------------------------------------\n",
        "#%%: 依列(Row)切割陣列\n",
        "\n",
        "import numpy as np\n",
        "\n",
        "# 宣告2維陣列\n",
        "arr = np.array([[1, 2, 3], [4, 5, 6], [7, 8, 9], [10, 11, 12], [13, 14, 15], [16, 17, 18]])\n",
        "\n",
        "# 切割成3個陣列\n",
        "newarr = np.array_split(arr, 3, axis = 0) # 依列切割(由左而右)\n",
        "\n",
        "# [[1,   2,  3]\n",
        "#  [4,   5,  6]\n",
        "#  [7,   8,  9]\n",
        "#  [10, 11, 12]\n",
        "#  [13, 14, 15]\n",
        "#  [16, 17, 18]\n",
        "# ]\n",
        "\n",
        "# 顯示結果\n",
        "print(newarr)"
      ],
      "execution_count": null,
      "outputs": [
        {
          "output_type": "stream",
          "text": [
            "[array([[1, 2, 3],\n",
            "       [4, 5, 6]]), array([[ 7,  8,  9],\n",
            "       [10, 11, 12]]), array([[13, 14, 15],\n",
            "       [16, 17, 18]])]\n"
          ],
          "name": "stdout"
        }
      ]
    },
    {
      "cell_type": "code",
      "metadata": {
        "id": "0y21KFS5o3VF",
        "outputId": "bd85abe7-1d09-4e47-90c0-be937ca3b4f2"
      },
      "source": [
        "#--------------------------------------------------------------------------------\n",
        "#%%: hsplit: 水平切割\n",
        "\n",
        "import numpy as np\n",
        "\n",
        "arr = np.array([[1, 2, 3], [4, 5, 6], [7, 8, 9], [10, 11, 12], [13, 14, 15], [16, 17, 18]])\n",
        "\n",
        "# [1, 2, 3]\n",
        "# [4, 5, 6]\n",
        "# [7, 8, 9]\n",
        "# [10, 11, 12]\n",
        "# [13, 14, 15]\n",
        "# [16, 17, 18]\n",
        "\n",
        "\n",
        "newarr = np.hsplit(arr, 3)\n",
        "\n",
        "print(newarr)"
      ],
      "execution_count": null,
      "outputs": [
        {
          "output_type": "stream",
          "text": [
            "[array([[ 1],\n",
            "       [ 4],\n",
            "       [ 7],\n",
            "       [10],\n",
            "       [13],\n",
            "       [16]]), array([[ 2],\n",
            "       [ 5],\n",
            "       [ 8],\n",
            "       [11],\n",
            "       [14],\n",
            "       [17]]), array([[ 3],\n",
            "       [ 6],\n",
            "       [ 9],\n",
            "       [12],\n",
            "       [15],\n",
            "       [18]])]\n"
          ],
          "name": "stdout"
        }
      ]
    },
    {
      "cell_type": "code",
      "metadata": {
        "id": "j2oNCcKTo3VF",
        "outputId": "c3aa59e5-ca7c-4e75-c8bf-898d75cd2d0c"
      },
      "source": [
        "#--------------------------------------------------------------------------------\n",
        "#%%: vsplit: 垂直切割\n",
        "\n",
        "import numpy as np\n",
        "\n",
        "arr = np.array([[1, 2, 3], [4, 5, 6], [7, 8, 9], [10, 11, 12], [13, 14, 15], [16, 17, 18]])\n",
        "\n",
        "newarr = np.vsplit(arr, 3)\n",
        "\n",
        "print(newarr)\n"
      ],
      "execution_count": null,
      "outputs": [
        {
          "output_type": "stream",
          "text": [
            "[array([[1, 2, 3],\n",
            "       [4, 5, 6]]), array([[ 7,  8,  9],\n",
            "       [10, 11, 12]]), array([[13, 14, 15],\n",
            "       [16, 17, 18]])]\n"
          ],
          "name": "stdout"
        }
      ]
    },
    {
      "cell_type": "markdown",
      "metadata": {
        "id": "k7uys9Gio3VG"
      },
      "source": [
        "# 陣列搜尋(Search)"
      ]
    },
    {
      "cell_type": "code",
      "metadata": {
        "id": "DWAfD-Vao3VG"
      },
      "source": [
        "# https://www.w3schools.com/python/numpy_array_split.asp"
      ],
      "execution_count": null,
      "outputs": []
    },
    {
      "cell_type": "code",
      "metadata": {
        "id": "ANo_XZH4o3VG",
        "outputId": "6123eb60-886d-46b3-9eb8-3f13f962b4d8"
      },
      "source": [
        "#--------------------------------------------------------------------------------\n",
        "#%%: where指令: 參數為特定值，找到則回傳值的索引(index)，未找到則回傳空值\n",
        "\n",
        "import numpy as np\n",
        "\n",
        "arr = np.array([1, 2, 3, 4, 5, 4, 4])\n",
        "\n",
        "# 找到值為4的索引\n",
        "x = np.where(arr == 4)\n",
        "\n",
        "# 顯示索引\n",
        "print(x)\n"
      ],
      "execution_count": null,
      "outputs": [
        {
          "output_type": "stream",
          "text": [
            "(array([], dtype=int64),)\n"
          ],
          "name": "stdout"
        }
      ]
    },
    {
      "cell_type": "code",
      "metadata": {
        "id": "DWL-oH4ao3VG",
        "outputId": "ac0c453e-0d1d-4775-d31e-46545fea6e4e"
      },
      "source": [
        "#--------------------------------------------------------------------------------\n",
        "#%%: 找到值為偶數的索引\n",
        "\n",
        "import numpy as np\n",
        "\n",
        "arr = np.array([1, 2, 3, 4, 5, 6, 7, 8])\n",
        "\n",
        "x = np.where(arr % 2 == 0)\n",
        "\n",
        "# 顯示結果\n",
        "print(x)"
      ],
      "execution_count": null,
      "outputs": [
        {
          "output_type": "stream",
          "text": [
            "(array([1, 3, 5, 7], dtype=int64),)\n"
          ],
          "name": "stdout"
        }
      ]
    },
    {
      "cell_type": "code",
      "metadata": {
        "id": "P-bp4F_ao3VH",
        "outputId": "a9ae12ea-383d-4d7b-9ca3-569702cd7ff6"
      },
      "source": [
        "#--------------------------------------------------------------------------------\n",
        "#%%: 找到值為奇數的索引\n",
        "\n",
        "import numpy as np\n",
        "\n",
        "arr = np.array([1, 2, 3, 4, 5, 6, 7, 8])\n",
        "\n",
        "x = np.where(arr % 2 == 1)\n",
        "\n",
        "# 顯示結果\n",
        "print(x)"
      ],
      "execution_count": null,
      "outputs": [
        {
          "output_type": "stream",
          "text": [
            "(array([0, 2, 4, 6], dtype=int64),)\n"
          ],
          "name": "stdout"
        }
      ]
    },
    {
      "cell_type": "code",
      "metadata": {
        "id": "nv7ZXvzjo3VH",
        "outputId": "1348da64-1114-4e54-f721-33423da9978d"
      },
      "source": [
        "#--------------------------------------------------------------------------------\n",
        "#%%: searchsorted: 僅限已排序的陣列，目的是維持陣列排序內容，新的值該加在何處\n",
        "\n",
        "import numpy as np\n",
        "\n",
        "arr = np.array([6, 7, 8, 9])\n",
        "\n",
        "# 7該加在何位置\n",
        "x = np.searchsorted(arr, 7)\n",
        "\n",
        "# 顯示\n",
        "print(x)\n",
        "\n",
        "# 請試試10該放的位置？才能維持原本順序"
      ],
      "execution_count": null,
      "outputs": [
        {
          "output_type": "stream",
          "text": [
            "4\n"
          ],
          "name": "stdout"
        }
      ]
    },
    {
      "cell_type": "code",
      "metadata": {
        "id": "jrzdxt8Eo3VH",
        "outputId": "bc4e78b2-a955-474f-d251-e160c9ab65e0"
      },
      "source": [
        "#--------------------------------------------------------------------------------\n",
        "#%%: searchsorted預設從左往右搜尋，可透過side參數改成由右往左\n",
        "\n",
        "import numpy as np\n",
        "\n",
        "arr = np.array([6, 7, 8, 9])\n",
        "\n",
        "# 加入side = 'right'參數，改變搜尋方向\n",
        "x = np.searchsorted(arr, 7, side = 'right')\n",
        "\n",
        "# 顯示結果\n",
        "print(x)\n"
      ],
      "execution_count": null,
      "outputs": [
        {
          "output_type": "stream",
          "text": [
            "2\n"
          ],
          "name": "stdout"
        }
      ]
    },
    {
      "cell_type": "code",
      "metadata": {
        "id": "jEqkZiLlo3VI",
        "outputId": "5d944fb3-c4a6-423c-94a1-5e4a6ac54cc2"
      },
      "source": [
        "#--------------------------------------------------------------------------------\n",
        "#%%: 搜尋多個值\n",
        "\n",
        "import numpy as np\n",
        "\n",
        "arr = np.array([1, 3, 5, 7])\n",
        "\n",
        "# 注意需使用[]符號\n",
        "x = np.searchsorted(arr, [2, 4, 6])\n",
        "\n",
        "# 顯示結果\n",
        "print(x)"
      ],
      "execution_count": null,
      "outputs": [
        {
          "output_type": "stream",
          "text": [
            "[1 2 3]\n"
          ],
          "name": "stdout"
        }
      ]
    },
    {
      "cell_type": "markdown",
      "metadata": {
        "id": "rLJKTnEmo3VI"
      },
      "source": [
        "# 陣列排序(Sort)"
      ]
    },
    {
      "cell_type": "code",
      "metadata": {
        "id": "uZtR_Z6Xo3VI"
      },
      "source": [
        "# https://www.w3schools.com/python/numpy_array_sort.asp"
      ],
      "execution_count": null,
      "outputs": []
    },
    {
      "cell_type": "code",
      "metadata": {
        "id": "AauCS4MIo3VI",
        "outputId": "cdc26b12-8fec-455f-f781-cefefe04e949"
      },
      "source": [
        "#--------------------------------------------------------------------------------\n",
        "#%%: sort函數：排序數字\n",
        "\n",
        "import numpy as np\n",
        "\n",
        "arr = np.array([3, 2, 0, 1])\n",
        "\n",
        "# 依數值方式遞增排序\n",
        "print(np.sort(arr))\n"
      ],
      "execution_count": null,
      "outputs": [
        {
          "output_type": "stream",
          "text": [
            "[0 1 2 3]\n"
          ],
          "name": "stdout"
        }
      ]
    },
    {
      "cell_type": "code",
      "metadata": {
        "id": "6hdjyZDUo3VJ",
        "outputId": "1d23d6a3-b464-458d-d5a9-62c8abcade1c"
      },
      "source": [
        "#--------------------------------------------------------------------------------\n",
        "#%%: sort函數：排序文字\n",
        "\n",
        "import numpy as np\n",
        "\n",
        "arr = np.array(['banana', 'cherry', 'apple'])\n",
        "\n",
        "# 依文字從小到大排序\n",
        "print(np.sort(arr))"
      ],
      "execution_count": null,
      "outputs": [
        {
          "output_type": "stream",
          "text": [
            "['apple' 'banana' 'cherry']\n"
          ],
          "name": "stdout"
        }
      ]
    },
    {
      "cell_type": "code",
      "metadata": {
        "id": "sW5N5F1qo3VJ",
        "outputId": "e3a02dd4-b8b8-408d-8d94-c6b351bf643f"
      },
      "source": [
        "#--------------------------------------------------------------------------------\n",
        "#%%: 排序布林值\n",
        "\n",
        "import numpy as np\n",
        "\n",
        "# 非0是True，0為False\n",
        "arr = np.array([True, False, True])\n",
        "\n",
        "print(np.sort(arr))"
      ],
      "execution_count": null,
      "outputs": [
        {
          "output_type": "stream",
          "text": [
            "[False  True  True]\n"
          ],
          "name": "stdout"
        }
      ]
    },
    {
      "cell_type": "code",
      "metadata": {
        "id": "5Ga8yR0eo3VJ",
        "outputId": "e24f1d20-f364-4192-af74-5d556fb6f19e"
      },
      "source": [
        "#--------------------------------------------------------------------------------\n",
        "#%%: 排序2維陣列\n",
        "\n",
        "import numpy as np\n",
        "\n",
        "arr = np.array([[3, 2, 4], [5, 0, 1]])\n",
        "\n",
        "# 兩個陣列依序排序\n",
        "print(np.sort(arr))"
      ],
      "execution_count": null,
      "outputs": [
        {
          "output_type": "stream",
          "text": [
            "[[2 3 4]\n",
            " [0 1 5]]\n"
          ],
          "name": "stdout"
        }
      ]
    },
    {
      "cell_type": "markdown",
      "metadata": {
        "id": "W-5mv0-Qo3VJ"
      },
      "source": [
        "# 陣列篩選(Filter)"
      ]
    },
    {
      "cell_type": "code",
      "metadata": {
        "id": "3IjNSSwZo3VK"
      },
      "source": [
        "# https://www.w3schools.com/python/numpy_array_filter.asp"
      ],
      "execution_count": null,
      "outputs": []
    },
    {
      "cell_type": "code",
      "metadata": {
        "id": "BV4nRQU4o3VK",
        "outputId": "a4370c0a-3491-4dfd-cfb2-c942be09d5a9"
      },
      "source": [
        "#--------------------------------------------------------------------------------\n",
        "#%%: 過濾(Filter)：從陣列中找出符合條件的資料，再產生新陣列\n",
        "\n",
        "import numpy as np\n",
        "\n",
        "arr = np.array([41, 42, 43, 44])\n",
        "\n",
        "# 利用True/False方式表達是否保留陣列資料(True是保留)，同時True/False位置也對應陣列索引\n",
        "# []表示利用串列結構儲存True/False\n",
        "x = [True, False, True, False] # 保留第0/2個元素\n",
        "\n",
        "# 產生新陣列\n",
        "newarr = arr[x]\n",
        "\n",
        "# 顯示結果\n",
        "print(newarr)\n"
      ],
      "execution_count": null,
      "outputs": [
        {
          "output_type": "stream",
          "text": [
            "[41 43]\n"
          ],
          "name": "stdout"
        }
      ]
    },
    {
      "cell_type": "code",
      "metadata": {
        "id": "Sj6muDYKo3VK",
        "outputId": "07769a6e-92df-47b9-954a-ed5b759c59da"
      },
      "source": [
        "#--------------------------------------------------------------------------------\n",
        "#%%: 利用過濾條件方式決定是否將陣列元素留下\n",
        "\n",
        "import numpy as np\n",
        "\n",
        "# 宣告陣列\n",
        "arr = np.array([41, 42, 43, 44])\n",
        "\n",
        "# 產生一個空排串列(List)\n",
        "filter_arr = []\n",
        "\n",
        "# 利用for迴圈，把陣列每一個元素繞過一圈\n",
        "for element in arr:\n",
        "  \n",
        "  # 如元素的值大於42才保留 \n",
        "  if element > 42:\n",
        "\n",
        "    filter_arr.append(True) # 利用append函數將True加到串列\n",
        "  \n",
        "  else: # 否則移除\n",
        "    \n",
        "    filter_arr.append(False) # 利用append函數將False加到串列\n",
        "\n",
        "# 顯示filter_arr內容\n",
        "print(filter_arr)\n",
        "\n",
        "# 利用True/False與位置方式決定是否將arr的元素取出並存放於newarr陣列\n",
        "newarr = arr[filter_arr]\n",
        "\n",
        "# 顯示新陣列\n",
        "print(newarr)"
      ],
      "execution_count": null,
      "outputs": [
        {
          "output_type": "stream",
          "text": [
            "[False, False, True, True]\n",
            "[43 44]\n"
          ],
          "name": "stdout"
        }
      ]
    },
    {
      "cell_type": "code",
      "metadata": {
        "id": "ET47_YFlo3VK",
        "outputId": "501c0fe9-fabb-4d6f-faee-98984db186d7"
      },
      "source": [
        "#--------------------------------------------------------------------------------\n",
        "#%%: 過濾偶數元素才留下\n",
        "\n",
        "import numpy as np\n",
        "\n",
        "arr = np.array([1, 2, 3, 4, 5, 6, 7])\n",
        "\n",
        "# 產生空白串列\n",
        "filter_arr = []\n",
        "\n",
        "# 利用for迴圈，把陣列每一個元素繞過一圈\n",
        "for element in arr:\n",
        "  \n",
        "  # 如元素的值可被2整除才保留 \n",
        "  if element % 2 == 0:\n",
        "  \n",
        "     filter_arr.append(True) # 利用append函數將True加到串列\n",
        "  \n",
        "  else: # 否則移除\n",
        "    \n",
        "     filter_arr.append(False) # 利用append函數將False加到串列\n",
        "\n",
        "# 顯示filter_arr內容\n",
        "print(filter_arr)\n",
        "\n",
        "# 利用True/False與位置方式決定是否將arr的元素取出並存放於newarr陣列\n",
        "newarr = arr[filter_arr]\n",
        "\n",
        "# 顯示新陣列\n",
        "print(newarr)"
      ],
      "execution_count": null,
      "outputs": [
        {
          "output_type": "stream",
          "text": [
            "[False, True, False, True, False, True, False]\n",
            "[2 4 6]\n"
          ],
          "name": "stdout"
        }
      ]
    },
    {
      "cell_type": "code",
      "metadata": {
        "id": "_2zunHO2o3VL",
        "outputId": "f3849ebd-9b07-49e5-bdd8-40ea8e512428"
      },
      "source": [
        "#--------------------------------------------------------------------------------\n",
        "#%%: 不使用迴圈方式過濾陣列: 大於42元素保留\n",
        "\n",
        "import numpy as np\n",
        "\n",
        "arr = np.array([41, 42, 43, 44])\n",
        "\n",
        "# 過濾條件，注意表達方式\n",
        "filter_arr = arr > 42\n",
        "\n",
        "# 直接將過濾條件套用到陣列(此處未使用迴圈，代碼更簡潔)\n",
        "newarr = arr[filter_arr]\n",
        "\n",
        "# 顯示filter_arr內容\n",
        "print(filter_arr)\n",
        "\n",
        "# 利用True/False與位置方式決定是否將arr的元素取出並存放於newarr陣列\n",
        "newarr = arr[filter_arr]\n",
        "\n",
        "# 顯示新陣列\n",
        "print(newarr)"
      ],
      "execution_count": null,
      "outputs": [
        {
          "output_type": "stream",
          "text": [
            "[False False  True  True]\n",
            "[43 44]\n"
          ],
          "name": "stdout"
        }
      ]
    },
    {
      "cell_type": "code",
      "metadata": {
        "id": "C5PvNu0bo3VL",
        "outputId": "195ad78c-ff9a-4e98-f4e8-5e6817df77a5"
      },
      "source": [
        "#--------------------------------------------------------------------------------\n",
        "#%%: 不使用迴圈方式過濾陣列: 偶數元素保留\n",
        "\n",
        "import numpy as np\n",
        "\n",
        "arr = np.array([1, 2, 3, 4, 5, 6, 7])\n",
        "\n",
        "# 過濾條件，注意表達方式\n",
        "filter_arr = arr % 2 == 0\n",
        "\n",
        "# 直接將過濾條件套用到陣列(此處未使用迴圈，代碼更簡潔)\n",
        "newarr = arr[filter_arr]\n",
        "\n",
        "# 顯示filter_arr內容\n",
        "print(filter_arr)\n",
        "\n",
        "# 利用True/False與位置方式決定是否將arr的元素取出並存放於newarr陣列\n",
        "newarr = arr[filter_arr]\n",
        "\n",
        "# 顯示新陣列\n",
        "print(newarr)"
      ],
      "execution_count": null,
      "outputs": [
        {
          "output_type": "stream",
          "text": [
            "[False  True False  True False  True False]\n",
            "[2 4 6]\n"
          ],
          "name": "stdout"
        }
      ]
    },
    {
      "cell_type": "markdown",
      "metadata": {
        "id": "TnxRpaGCo3VL"
      },
      "source": [
        "# 隨機值(Random)"
      ]
    },
    {
      "cell_type": "code",
      "metadata": {
        "id": "ktF61Elho3VM"
      },
      "source": [
        "#--------------------------------------------------------------------------------\n",
        "#%%: 利用pseudo random產生隨機值：代表仍由程式所產生(是可以推算出的)\n"
      ],
      "execution_count": null,
      "outputs": []
    },
    {
      "cell_type": "code",
      "metadata": {
        "id": "IqBEx9FOo3VM",
        "outputId": "33bc6784-5e19-4806-d25d-b48e9f9886d0"
      },
      "source": [
        "#--------------------------------------------------------------------------------\n",
        "#%%: randint函數: 產生隨機整數\n",
        "\n",
        "# 在numpy的random方法中\n",
        "from numpy import random\n",
        "\n",
        "# 產生0-10間的隨機整數(不含10)\n",
        "x = random.randint(10)\n",
        "\n",
        "# 顯示結果\n",
        "print(x)"
      ],
      "execution_count": null,
      "outputs": [
        {
          "output_type": "stream",
          "text": [
            "8\n"
          ],
          "name": "stdout"
        }
      ]
    },
    {
      "cell_type": "code",
      "metadata": {
        "id": "VelqV4Xjo3VM",
        "outputId": "08f65939-54c9-4ba4-fd72-a43c8c03b6f9"
      },
      "source": [
        "#--------------------------------------------------------------------------------\n",
        "#%%: rand函數：產生0-1之間隨機浮點數(不含1)\n",
        "\n",
        "from numpy import random\n",
        "\n",
        "x = random.rand()\n",
        "\n",
        "# 顯示結果\n",
        "print(x)"
      ],
      "execution_count": null,
      "outputs": [
        {
          "output_type": "stream",
          "text": [
            "0.46094857119056276\n"
          ],
          "name": "stdout"
        }
      ]
    },
    {
      "cell_type": "code",
      "metadata": {
        "id": "earkjrPHo3VM",
        "outputId": "d56e77bd-ed7c-4100-ac81-74fdaa89c939"
      },
      "source": [
        "#--------------------------------------------------------------------------------\n",
        "#%%: 隨機整數存放於一維陣列\n",
        "\n",
        "from numpy import random\n",
        "\n",
        "# 產生隨機0-100之間的5個整數，存放於陣列(由於指定size的關係)\n",
        "x = random.randint(100, size = (5))\n",
        "\n",
        "print(x)"
      ],
      "execution_count": null,
      "outputs": [
        {
          "output_type": "stream",
          "text": [
            "[63 80 30 33 91]\n"
          ],
          "name": "stdout"
        }
      ]
    },
    {
      "cell_type": "code",
      "metadata": {
        "id": "MltyA7-2o3VN",
        "outputId": "6b22ccc6-0849-4082-b483-26129bef7823"
      },
      "source": [
        "#--------------------------------------------------------------------------------\n",
        "#%%: 隨機整數存放於二維陣列\n",
        "\n",
        "from numpy import random\n",
        "\n",
        "# 3個2維各5個元素的陣列，2維因掛號中有兩個值:3與5\n",
        "x = random.randint(100, size = (3, 5))\n",
        "\n",
        "# 顯示結果\n",
        "print(x)"
      ],
      "execution_count": null,
      "outputs": [
        {
          "output_type": "stream",
          "text": [
            "[[80 32 64 63 63]\n",
            " [87 46 50 11  2]\n",
            " [69 58 67 50 32]]\n"
          ],
          "name": "stdout"
        }
      ]
    },
    {
      "cell_type": "code",
      "metadata": {
        "id": "y3QJ440Ho3VN",
        "outputId": "5e58d702-e37c-4440-d2de-07c353e54c73"
      },
      "source": [
        "#--------------------------------------------------------------------------------\n",
        "#%%: 浮點數1維陣列\n",
        "\n",
        "from numpy import random\n",
        "\n",
        "# 1維陣列，含5個浮點陣列\n",
        "x = random.rand(5)\n",
        "\n",
        "# 顯示結果\n",
        "print(x)"
      ],
      "execution_count": null,
      "outputs": [
        {
          "output_type": "stream",
          "text": [
            "[0.67284738 0.19134885 0.56315801 0.1685919  0.95400932]\n"
          ],
          "name": "stdout"
        }
      ]
    },
    {
      "cell_type": "code",
      "metadata": {
        "id": "taQHeGU_o3VN",
        "outputId": "045b1655-9d78-49a8-f860-bd911dd59569"
      },
      "source": [
        "#--------------------------------------------------------------------------------\n",
        "#%%: 浮點數2維陣列\n",
        "\n",
        "from numpy import random\n",
        "\n",
        "# 2維陣列，3個陣列，各5個元素\n",
        "x = random.rand(3, 5)\n",
        "\n",
        "print(x)"
      ],
      "execution_count": null,
      "outputs": [
        {
          "output_type": "stream",
          "text": [
            "[[0.29386299 0.65345393 0.88639416 0.59604602 0.54712931]\n",
            " [0.03268145 0.16629758 0.57511086 0.39772757 0.66695705]\n",
            " [0.6749569  0.21043788 0.28439431 0.24646855 0.41916594]]\n"
          ],
          "name": "stdout"
        }
      ]
    },
    {
      "cell_type": "code",
      "metadata": {
        "id": "XfxezqGxo3VO",
        "outputId": "eb59a5ec-7a1b-42d2-8e03-efc08196a64e"
      },
      "source": [
        "#--------------------------------------------------------------------------------\n",
        "#%%: choice函數: 由陣列中的值隨機挑選\n",
        "\n",
        "from numpy import random\n",
        "\n",
        "# 從3/5/7/9隨機挑出數字\n",
        "x = random.choice([3, 5, 7, 9])\n",
        "\n",
        "# 顯示結果\n",
        "print(x)"
      ],
      "execution_count": null,
      "outputs": [
        {
          "output_type": "stream",
          "text": [
            "9\n"
          ],
          "name": "stdout"
        }
      ]
    },
    {
      "cell_type": "code",
      "metadata": {
        "id": "7gKxsjtuo3VO",
        "outputId": "5d90e8d7-7b34-4675-e84c-45f078308403"
      },
      "source": [
        "#--------------------------------------------------------------------------------\n",
        "#%%: choice函數: 由陣列中的值隨機挑選，並產生於陣列\n",
        "\n",
        "from numpy import random\n",
        "\n",
        "# 隨機挑出數字，存放於2維3個陣列，個含5個元素\n",
        "x = random.choice([3, 5, 7, 9], size = (3, 5))\n",
        "\n",
        "# 顯示結果\n",
        "print(x)"
      ],
      "execution_count": null,
      "outputs": [
        {
          "output_type": "stream",
          "text": [
            "[[3 5 3 9 5]\n",
            " [9 7 3 7 3]\n",
            " [5 7 3 3 3]]\n"
          ],
          "name": "stdout"
        }
      ]
    }
  ]
}